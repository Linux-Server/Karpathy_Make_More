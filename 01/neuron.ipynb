{
 "cells": [
  {
   "cell_type": "code",
   "execution_count": 36,
   "metadata": {},
   "outputs": [],
   "source": [
    "import torch\n",
    "from micrograd.engine import Value\n",
    "import random\n",
    "\n",
    "class Neuron:\n",
    "    def __init__(self, number_inputs):\n",
    "        self.weights = [Value(random.uniform(1,2) for _ in range(number_inputs))]\n",
    "        self.b = Value(random.uniform(1,2))\n",
    "        \n",
    "    def __call__(self, inputs):\n",
    "        # w*x  + b\n",
    "        print(\":helloo samm\", inputs)\n",
    "        \n",
    "    def __repr__(self):\n",
    "        return f\"Neuron({self.weights} inputs)\""
   ]
  },
  {
   "cell_type": "code",
   "execution_count": 37,
   "metadata": {},
   "outputs": [
    {
     "name": "stdout",
     "output_type": "stream",
     "text": [
      ":helloo samm [2.0, 3.0]\n"
     ]
    }
   ],
   "source": [
    "x = Neuron(3)\n",
    "inputs = [2.0,3.0]\n",
    "x(inputs)"
   ]
  },
  {
   "cell_type": "code",
   "execution_count": 41,
   "metadata": {},
   "outputs": [
    {
     "name": "stdout",
     "output_type": "stream",
     "text": [
      "Value(data=<generator object Neuron.__init__.<locals>.<genexpr> at 0x107ddc900>, grad=0)\n"
     ]
    }
   ],
   "source": [
    "for i in x.weights:\n",
    "    print(i)"
   ]
  },
  {
   "cell_type": "code",
   "execution_count": 42,
   "metadata": {},
   "outputs": [
    {
     "name": "stdout",
     "output_type": "stream",
     "text": [
      "Value(data=<generator object <genexpr> at 0x107dddb60>, grad=0)\n"
     ]
    }
   ],
   "source": [
    "for i in [Value(random.uniform(1,2) for _ in range(2))]:\n",
    "    print(i)\n",
    "    "
   ]
  },
  {
   "cell_type": "code",
   "execution_count": null,
   "metadata": {},
   "outputs": [],
   "source": []
  }
 ],
 "metadata": {
  "kernelspec": {
   "display_name": ".venv",
   "language": "python",
   "name": "python3"
  },
  "language_info": {
   "codemirror_mode": {
    "name": "ipython",
    "version": 3
   },
   "file_extension": ".py",
   "mimetype": "text/x-python",
   "name": "python",
   "nbconvert_exporter": "python",
   "pygments_lexer": "ipython3",
   "version": "3.12.5"
  }
 },
 "nbformat": 4,
 "nbformat_minor": 2
}
